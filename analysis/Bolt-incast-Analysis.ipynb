{
 "cells": [
  {
   "cell_type": "code",
   "execution_count": 1,
   "id": "52248554",
   "metadata": {},
   "outputs": [
    {
     "name": "stderr",
     "output_type": "stream",
     "text": [
      "Matplotlib created a temporary config/cache directory at /tmp/matplotlib-4l739n6y because the default path (/home/sarslan/.config/matplotlib) is not a writable directory; it is highly recommended to set the MPLCONFIGDIR environment variable to a writable directory, in particular to speed up the import of Matplotlib and to better support multiprocessing.\n"
     ]
    }
   ],
   "source": [
    "import math\n",
    "import numpy as np\n",
    "import matplotlib.pyplot as plt\n",
    "import matplotlib.ticker\n",
    "\n",
    "import matplotlib\n",
    "matplotlib.rcParams['pdf.fonttype'] = 42\n",
    "matplotlib.rcParams['ps.fonttype'] = 42"
   ]
  },
  {
   "cell_type": "code",
   "execution_count": 2,
   "id": "5de9f993",
   "metadata": {},
   "outputs": [],
   "source": [
    "FIG_SIZE = (5,4.5)\n",
    "FIG_SIZE_LARGE = (6,4)\n",
    "FONTSIZE = 16\n",
    "LINESTYLE = (0,(4,4))\n",
    "LINEWIDTH = 2.5\n",
    "SAVE_FIG = False\n",
    "\n",
    "START_TIME = 1.0 # in seconds\n",
    "BW = 100e9 # in bps\n",
    "PORT_NO_START = 1000\n",
    "NUM_SENDERS = 50\n",
    "NUM_MSG_PER_SENDER = 100\n",
    "\n",
    "BOLT_HDR_SIZE = 21. # Bytes\n",
    "IP_HDR_SIZE = 20.   # Bytes\n",
    "MTU = 5000.         # Bytes\n",
    "PKT_PAYLOAD_SIZE = MTU - IP_HDR_SIZE - BOLT_HDR_SIZE\n",
    "\n",
    "BTS_WINDOW = 100e-6 # in seconds\n",
    "\n",
    "note = '' # Should start with a _\n",
    "load = 0.8\n",
    "simIdx = 0\n",
    "\n",
    "trace_path = '../outputs/bolt-star-topo-incast/'\n",
    "trace_path += 'nSenders-' + str(NUM_SENDERS) + '_'\n",
    "trace_path += 'nMsgPerSender-' + str(NUM_MSG_PER_SENDER) + '_' + str(simIdx) + '_'\n",
    "\n",
    "log_files = {\n",
    "    'Bolt' : trace_path + 'DEFAULT' + note,\n",
    "    'Swift': trace_path + 'SWIFT',\n",
    "    'HPCC' : trace_path + 'HPCC',\n",
    "}"
   ]
  },
  {
   "cell_type": "code",
   "execution_count": 3,
   "id": "25f4f661",
   "metadata": {},
   "outputs": [],
   "source": [
    "def get_pctl(a, p):\n",
    "    i = int(len(a) * p)\n",
    "    return sorted(a)[i]"
   ]
  },
  {
   "cell_type": "code",
   "execution_count": 4,
   "id": "baede067",
   "metadata": {},
   "outputs": [],
   "source": [
    "def readMsgTrace(filename, algo):\n",
    "    retval = {'fct' : []}\n",
    "    totalMsgSize = 0\n",
    "    with open(filename,'r') as f:\n",
    "        for line in f:\n",
    "            msgLog = line.split()\n",
    "        \n",
    "            if (msgLog[0]=='+'):\n",
    "                continue\n",
    "\n",
    "            time = float(msgLog[1])*1e-9 - START_TIME        # in seconds\n",
    "            msgSize = float(msgLog[2])            # in bytes\n",
    "            sender = msgLog[3]                  # ip:port\n",
    "            receiver = msgLog[4]                # ip:port\n",
    "            txMsgId = int(msgLog[5])\n",
    "\n",
    "            retval['fct'].append(time)\n",
    "            totalMsgSize += msgSize\n",
    "            \n",
    "    retval['fct'] = np.array(sorted(retval['fct']))\n",
    "    \n",
    "    thp = totalMsgSize * 8.0 / np.max(retval['fct']) / 1e9 # in Gbps\n",
    "    print('{} Thp: {:.3f}Gbps'.format(algo, thp))\n",
    "\n",
    "    return retval"
   ]
  },
  {
   "cell_type": "code",
   "execution_count": 5,
   "id": "8bdc0286",
   "metadata": {},
   "outputs": [],
   "source": [
    "def readQueueTrace(filename, algo):\n",
    "    retval = {'que_sizes': [], 'que_times': [], 'bts_times': []}\n",
    "    with open(filename,'r') as f:\n",
    "        for line in f:\n",
    "            queue_log = line.split()\n",
    "            try:\n",
    "                time = float(queue_log[1])*1e-9 - START_TIME # in seconds\n",
    "            except:\n",
    "                continue\n",
    "                \n",
    "            if (queue_log[2] == '0' and queue_log[3] == '1'): # Only bottleneck    \n",
    "                if (queue_log[0] == 'que'): \n",
    "                    retval['que_times'].append(time)\n",
    "                    retval['que_sizes'].append(float(queue_log[4]) * 8.0 / BW * 1e6) # in usec\n",
    "                elif(queue_log[0] == 'bts'):\n",
    "                    retval['bts_times'].append(time)\n",
    "                \n",
    "    retval['que_sizes'] = np.array(retval['que_sizes'])\n",
    "    retval['que_times'] = np.array(retval['que_times'])\n",
    "    retval['bts_times'] = np.array(retval['bts_times'])\n",
    "    print('{} 99th-p Queuing: {:.3f}us'.format(algo, get_pctl(retval['que_sizes'], 0.99)))\n",
    "    \n",
    "    return retval"
   ]
  },
  {
   "cell_type": "code",
   "execution_count": 6,
   "id": "29c19519",
   "metadata": {},
   "outputs": [],
   "source": [
    "def readMsgTraceForHPCC(filename, algo):\n",
    "    retval = {'fct' : []}\n",
    "    totalMsgSize = 0\n",
    "    with open(filename,'r') as f:\n",
    "        for line in f:\n",
    "            msgLog = line.split()\n",
    "            \n",
    "            time = float(msgLog[6])*1e-9     # in seconds\n",
    "            msgSize = float(msgLog[4])       # in bytes\n",
    "            \n",
    "            retval['fct'].append(time)\n",
    "            totalMsgSize += msgSize\n",
    "            \n",
    "    retval['fct'] = np.array(sorted(retval['fct']))\n",
    "    \n",
    "    thp = totalMsgSize * 8.0 / np.max(retval['fct']) / 1e9 # in Gbps\n",
    "    print('{} Thp: {:.3f}Gbps'.format(algo, thp))\n",
    "\n",
    "    return retval"
   ]
  },
  {
   "cell_type": "markdown",
   "id": "fdd2d38c",
   "metadata": {},
   "source": [
    "Each line for HPCC log is like:\n",
    "\n",
    "`2000055540 n:338 4:3 100608 Enqu ecn:0 0b00d101 0b012301 10000 100 U 161000 0 3 1048(1000)`\n",
    "\n",
    "It means: at time 2000055540ns, at node 338, port 4, queue #3, the queue length is 100608B, and a packet is enqueued; the packet does not have ECN marked, is from 11.0.209.1:10000 to 11.1.35.1:100, is a data packet (U), sequence number 161000, tx timestamp 0, priority group 3, packet size 1048B, payload 1000B."
   ]
  },
  {
   "cell_type": "code",
   "execution_count": 7,
   "id": "393f1922",
   "metadata": {},
   "outputs": [],
   "source": [
    "def readQueueTraceForHPCC(filename, algo):\n",
    "    retval = {'que_sizes': [], 'que_times': [], 'bts_times': []}\n",
    "    with open(filename,'r') as f:\n",
    "        for line in f:\n",
    "            queue_log = line.split()\n",
    "            \n",
    "            if (queue_log[1] == 'n:{}'.format(NUM_SENDERS+1) and \n",
    "                queue_log[4] == 'Enqu'):\n",
    "            \n",
    "                retval['que_times'].append(float(queue_log[0])*1e-9 - START_TIME) # in seconds\n",
    "                retval['que_sizes'].append(float(queue_log[3]) * 8.0 / BW * 1e6) # in usec\n",
    "\n",
    "    retval['que_sizes'] = np.array(retval['que_sizes'])\n",
    "    retval['que_times'] = np.array(retval['que_times'])\n",
    "    retval['bts_times'] = np.array(retval['bts_times'])\n",
    "    print('{} 99th-p Queuing: {:.3f}us'.format(algo, get_pctl(retval['que_sizes'], 0.99)))\n",
    "    \n",
    "    return retval"
   ]
  },
  {
   "cell_type": "code",
   "execution_count": 8,
   "id": "ad41e33c",
   "metadata": {},
   "outputs": [],
   "source": [
    "def calculateBtsThp(bts_times, win, algo):\n",
    "    retval = {'bts_thp': [], 'bts_thp_times': []}\n",
    "    \n",
    "    if (len(bts_times) > 0):\n",
    "        bts_size = IP_HDR_SIZE + BOLT_HDR_SIZE\n",
    "        tot_bts_thp = len(bts_times) * bts_size * 8.0 * 1e-9 / np.max(bts_times) # in Gbps\n",
    "        print('{} Total BTS Overhead: {:.3f}Gbps (Only Bottleneck)'.format(algo, tot_bts_thp))\n",
    "        \n",
    "        lo = 0\n",
    "        hi = lo + win\n",
    "        half = win / 2.\n",
    "        while (lo + half < np.max(bts_times)):\n",
    "            n_bts = len(bts_times[np.where(np.logical_and(bts_times>=lo, bts_times<=hi))])\n",
    "            bts_thp = n_bts * bts_size * 8.0 * 1e-9 / win # in Gbps\n",
    "            \n",
    "            retval['bts_thp'].append(bts_thp)\n",
    "            retval['bts_thp_times'].append(lo + half) # middle of the window\n",
    "            \n",
    "            lo += half\n",
    "            hi = lo + win\n",
    "    \n",
    "    retval['bts_thp'] = np.array(retval['bts_thp'])\n",
    "    retval['bts_thp_times'] = np.array(retval['bts_thp_times'])\n",
    "    \n",
    "    return retval"
   ]
  },
  {
   "cell_type": "code",
   "execution_count": 9,
   "id": "bbe9c816",
   "metadata": {},
   "outputs": [
    {
     "name": "stdout",
     "output_type": "stream",
     "text": [
      "Bolt Thp: 99.178Gbps\n",
      "Bolt 99th-p Queuing: 13720.000$\\mu$s\n",
      "Swift Thp: 57.413Gbps\n",
      "Swift 99th-p Queuing: 23543.200$\\mu$s\n",
      "HPCC Thp: 98.442Gbps\n",
      "HPCC 99th-p Queuing: 23066.800$\\mu$s\n"
     ]
    }
   ],
   "source": [
    "#@title\n",
    "data = {}\n",
    "\n",
    "for algo, log_filename in log_files.items():\n",
    "    data[algo] = {}\n",
    "    if (algo == \"HPCC\"):\n",
    "        data[algo] = readMsgTraceForHPCC(log_filename+'.tr', algo)\n",
    "        data[algo].update(readQueueTraceForHPCC(log_filename+'.qlen', algo))\n",
    "    else:\n",
    "        data[algo] = readMsgTrace(log_filename+'.tr', algo)\n",
    "        data[algo].update(readQueueTrace(log_filename+'.qlen', algo))"
   ]
  },
  {
   "cell_type": "code",
   "execution_count": 10,
   "id": "c7ea3bba",
   "metadata": {},
   "outputs": [
    {
     "name": "stdout",
     "output_type": "stream",
     "text": [
      "Bolt Total BTS Overhead: 0.769Gbps (Only Bottleneck)\n"
     ]
    }
   ],
   "source": [
    "for algo, d in data.items():\n",
    "    data[algo].update(calculateBtsThp(d['bts_times'], BTS_WINDOW, algo))"
   ]
  },
  {
   "cell_type": "code",
   "execution_count": 11,
   "id": "2529995b",
   "metadata": {},
   "outputs": [
    {
     "data": {
      "image/png": "[encoded data removed]",
      "text/plain": [
       "<Figure size 360x324 with 1 Axes>"
      ]
     },
     "metadata": {
      "needs_background": "light"
     },
     "output_type": "display_data"
    }
   ],
   "source": [
    "#@title\n",
    "plt.figure(figsize=FIG_SIZE)\n",
    "\n",
    "for algo, d in data.items():\n",
    "    fct_cdf = np.arange(1,len(d['fct'])+1) / len(d['fct'])\n",
    "    plt.plot(d['fct'], fct_cdf, label=algo, linewidth=3.5)\n",
    "\n",
    "plt.ylabel('CDF', fontsize=FONTSIZE)\n",
    "plt.xlabel('FCT (sec)', fontsize=FONTSIZE)\n",
    "plt.xticks(rotation=45, fontsize=FONTSIZE)\n",
    "plt.yticks(fontsize=FONTSIZE)\n",
    "plt.ylim([0,1.01])\n",
    "plt.xlim([0.18,0.22])\n",
    "plt.legend(frameon=False, fontsize=FONTSIZE)\n",
    "plt.grid(linestyle =LINESTYLE)\n",
    "plt.gca().spines[\"right\"].set_linestyle(LINESTYLE)\n",
    "plt.gca().spines[\"right\"].set_alpha(0.5)\n",
    "plt.gca().spines[\"right\"].set_color('gray')\n",
    "plt.gca().spines[\"left\"].set_linestyle(LINESTYLE)\n",
    "plt.gca().spines[\"left\"].set_alpha(0.5)\n",
    "plt.gca().spines[\"left\"].set_color('gray')\n",
    "plt.gca().spines[\"top\"].set_visible(False)\n",
    "plt.gca().spines[\"bottom\"].set_linestyle(LINESTYLE)\n",
    "plt.gca().spines[\"bottom\"].set_alpha(0.5)\n",
    "plt.gca().spines[\"bottom\"].set_color('gray')\n",
    "plt.tight_layout()\n",
    "\n",
    "if (SAVE_FIG):\n",
    "    save_folder = '../outputs/bolt-star-topo-incast/'\n",
    "    save_filename = 'nSenders-' + str(NUM_SENDERS) + '_'\n",
    "    save_filename += 'nMsgPerSender-' + str(NUM_MSG_PER_SENDER) + '_incast_fct.pdf'\n",
    "\n",
    "    plt.savefig(save_folder + save_filename)\n",
    "plt.show()"
   ]
  },
  {
   "cell_type": "code",
   "execution_count": 12,
   "id": "d704527e",
   "metadata": {},
   "outputs": [
    {
     "data": {
      "image/png": "[encoded data removed]",
      "text/plain": [
       "<Figure size 360x324 with 2 Axes>"
      ]
     },
     "metadata": {
      "needs_background": "light"
     },
     "output_type": "display_data"
    }
   ],
   "source": [
    "f, (a0, a1) = plt.subplots(2, 1, sharex=True, gridspec_kw={'height_ratios': [2, 1]}, figsize=FIG_SIZE)\n",
    "\n",
    "a0.grid(axis='y', alpha=0.75, linestyle=LINESTYLE)\n",
    "a0.set_ylabel('Queuing (msec)', fontsize=FONTSIZE)\n",
    "for algo, d in data.items():\n",
    "    a0.step(d['que_times']*1e3, d['que_sizes']/1e3, label=algo, \n",
    "             where='post', linestyle='--', linewidth=LINEWIDTH)\n",
    "\n",
    "leg = a0.legend(loc='upper right', frameon=False, ncol=1, fontsize=FONTSIZE-2,\n",
    "                bbox_to_anchor=(1.0, 1.08),)\n",
    "for line in leg.get_lines():\n",
    "    line.set_linewidth(LINEWIDTH)\n",
    "    \n",
    "a0.set_ylim((0,25))\n",
    "a0.set_xlim((-2,np.max(data['Bolt']['que_times'])*1e3/3.+5))\n",
    "a0.spines['top'].set_visible(False)\n",
    "# a0.spines['right'].set_visible(False)\n",
    "a0.get_xaxis().set_visible(False)\n",
    "# a0.tick_params(axis='x',label1On=False)\n",
    "a0.tick_params(axis='y', which='major', labelsize=FONTSIZE)\n",
    "\n",
    "a0.spines[\"right\"].set_linestyle(LINESTYLE)\n",
    "a0.spines[\"right\"].set_alpha(0.75)\n",
    "a0.spines[\"right\"].set_color('gray')\n",
    "a0.spines[\"left\"].set_linestyle(LINESTYLE)\n",
    "a0.spines[\"left\"].set_alpha(0.75)\n",
    "a0.spines[\"left\"].set_color('gray')\n",
    "a0.spines[\"top\"].set_linestyle(LINESTYLE)\n",
    "a0.spines[\"top\"].set_alpha(0.75)\n",
    "a0.spines[\"top\"].set_color('gray')\n",
    "a0.spines[\"bottom\"].set_linestyle(LINESTYLE)\n",
    "a0.spines[\"bottom\"].set_alpha(0.75)\n",
    "a0.spines[\"bottom\"].set_color('gray')\n",
    "\n",
    "a1.grid(axis='y', alpha=0.75, linestyle=LINESTYLE)\n",
    "a1.set_ylabel('SRC (Gbps)', fontsize=FONTSIZE)\n",
    "a1.set_xlabel('Time (msec)', fontsize=FONTSIZE)\n",
    "a1.step(data['Bolt']['bts_thp_times']*1e3, data['Bolt']['bts_thp'], label='Bolt', \n",
    "        where='post', color='C0', linestyle='--', linewidth=LINEWIDTH)\n",
    "\n",
    "a1.set_ylim((0,1.4))\n",
    "a1.set_yticks([0,0.6,1.2])\n",
    "# a1.legend(loc='lower center', frameon=False, ncol=4)\n",
    "a1.spines['top'].set_visible(False)\n",
    "# a1.spines['right'].set_visible(False)\n",
    "a1.tick_params(axis='both', which='major', labelsize=FONTSIZE)\n",
    "\n",
    "a1.spines[\"right\"].set_linestyle(LINESTYLE)\n",
    "a1.spines[\"right\"].set_alpha(0.75)\n",
    "a1.spines[\"right\"].set_color('gray')\n",
    "a1.spines[\"left\"].set_linestyle(LINESTYLE)\n",
    "a1.spines[\"left\"].set_alpha(0.75)\n",
    "a1.spines[\"left\"].set_color('gray')\n",
    "a1.spines[\"top\"].set_linestyle(LINESTYLE)\n",
    "a1.spines[\"top\"].set_alpha(0.75)\n",
    "a1.spines[\"top\"].set_color('gray')\n",
    "a1.spines[\"bottom\"].set_linestyle(LINESTYLE)\n",
    "a1.spines[\"bottom\"].set_alpha(0.75)\n",
    "a1.spines[\"bottom\"].set_color('gray')\n",
    "\n",
    "f.tight_layout()\n",
    "f.align_ylabels()\n",
    "if (SAVE_FIG):\n",
    "    save_folder = '../outputs/bolt-star-topo-incast/'\n",
    "    save_filename = 'nSenders-' + str(NUM_SENDERS) + '_'\n",
    "    save_filename += 'nMsgPerSender-' + str(NUM_MSG_PER_SENDER) + '_incast_qlen_bts.pdf'\n",
    "\n",
    "    plt.savefig(save_folder + save_filename)\n",
    "    \n",
    "plt.show()"
   ]
  },
  {
   "cell_type": "code",
   "execution_count": null,
   "id": "cc9c9135",
   "metadata": {},
   "outputs": [],
   "source": []
  }
 ],
 "metadata": {
  "kernelspec": {
   "display_name": "Python 3",
   "language": "python",
   "name": "python3"
  },
  "language_info": {
   "codemirror_mode": {
    "name": "ipython",
    "version": 3
   },
   "file_extension": ".py",
   "mimetype": "text/x-python",
   "name": "python",
   "nbconvert_exporter": "python",
   "pygments_lexer": "ipython3",
   "version": "3.6.9"
  }
 },
 "nbformat": 4,
 "nbformat_minor": 5
}
